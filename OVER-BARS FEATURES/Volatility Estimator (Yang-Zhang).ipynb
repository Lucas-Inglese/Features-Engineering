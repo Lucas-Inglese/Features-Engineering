{
 "cells": [
  {
   "cell_type": "code",
   "execution_count": 1,
   "id": "e7296039",
   "metadata": {},
   "outputs": [],
   "source": [
    "import pandas as pd\n",
    "import numpy as np\n",
    "import math"
   ]
  },
  {
   "cell_type": "code",
   "execution_count": 2,
   "id": "c2553883",
   "metadata": {},
   "outputs": [],
   "source": [
    "df = pd.read_csv(\"../../../Alpha-Quant-Course/Data/FixTimeBars/AUDUSD_4H_Admiral_READY.csv\", parse_dates=True, index_col=\"time\")"
   ]
  },
  {
   "cell_type": "code",
   "execution_count": 3,
   "id": "a08df29d",
   "metadata": {},
   "outputs": [],
   "source": [
    "def moving_yang_zhang_estimator(df, window_size=30):\n",
    "    \"\"\"\n",
    "    Calculate Parkinson's volatility estimator based on high and low prices.\n",
    "\n",
    "    Parameters:\n",
    "    -----------\n",
    "    df : pandas.DataFrame\n",
    "        DataFrame containing 'high' and 'low' columns for each trading period.\n",
    "\n",
    "    Returns:\n",
    "    --------\n",
    "    volatility : float\n",
    "        Estimated volatility based on Parkinson's method.\n",
    "    \"\"\"\n",
    "    def yang_zhang_estimator(df):\n",
    "        N = len(window)\n",
    "    \n",
    "        term1 = np.log(window['high'] / window['close']) * np.log(window['high'] / window['open'])\n",
    "        term2 = np.log(window['low'] / window['close']) * np.log(window['low'] / window['open'])\n",
    "\n",
    "        sum_squared = np.sum(term1 + term2)\n",
    "        volatility = np.sqrt(sum_squared / N)\n",
    "\n",
    "        return volatility\n",
    "    \n",
    "    df_copy = df.copy()\n",
    "    \n",
    "    # Create an empty series to store mobile volatility\n",
    "    rolling_volatility = pd.Series(dtype='float64')\n",
    "\n",
    "    # Browse the DataFrame by window size `window_size` and apply `yang_zhang_estimator`.\n",
    "    for i in range(window_size, len(df)):\n",
    "        window = df_copy.loc[df_copy.index[i-window_size]: df_copy.index[i]]\n",
    "        volatility = yang_zhang_estimator(window)\n",
    "        rolling_volatility.at[df_copy.index[i]] = volatility\n",
    "\n",
    "    # Add the mobile volatility series to the original DataFrame\n",
    "    df_copy['rolling_volatility_yang_zhang'] = rolling_volatility\n",
    "    \n",
    "    return df_copy\n"
   ]
  },
  {
   "cell_type": "code",
   "execution_count": 4,
   "id": "b339eafa",
   "metadata": {},
   "outputs": [],
   "source": [
    "df = moving_yang_zhang_estimator(df)"
   ]
  },
  {
   "cell_type": "code",
   "execution_count": 5,
   "id": "ee774e5b",
   "metadata": {},
   "outputs": [
    {
     "data": {
      "text/plain": [
       "<AxesSubplot:xlabel='time'>"
      ]
     },
     "execution_count": 5,
     "metadata": {},
     "output_type": "execute_result"
    },
    {
     "data": {
      "image/png": "[encoded data removed]",
      "text/plain": [
       "<Figure size 432x288 with 1 Axes>"
      ]
     },
     "metadata": {
      "needs_background": "light"
     },
     "output_type": "display_data"
    }
   ],
   "source": [
    "df['rolling_volatility_yang_zhang'].loc[\"2019\"].plot()"
   ]
  },
  {
   "cell_type": "code",
   "execution_count": 6,
   "id": "2ca21684",
   "metadata": {},
   "outputs": [
    {
     "data": {
      "text/html": [
       "<div>\n",
       "<style scoped>\n",
       "    .dataframe tbody tr th:only-of-type {\n",
       "        vertical-align: middle;\n",
       "    }\n",
       "\n",
       "    .dataframe tbody tr th {\n",
       "        vertical-align: top;\n",
       "    }\n",
       "\n",
       "    .dataframe thead th {\n",
       "        text-align: right;\n",
       "    }\n",
       "</style>\n",
       "<table border=\"1\" class=\"dataframe\">\n",
       "  <thead>\n",
       "    <tr style=\"text-align: right;\">\n",
       "      <th></th>\n",
       "      <th>close</th>\n",
       "      <th>tick_volume</th>\n",
       "      <th>rolling_volatility_yang_zhang</th>\n",
       "    </tr>\n",
       "  </thead>\n",
       "  <tbody>\n",
       "    <tr>\n",
       "      <th>close</th>\n",
       "      <td>1.000000</td>\n",
       "      <td>0.145435</td>\n",
       "      <td>-0.354947</td>\n",
       "    </tr>\n",
       "    <tr>\n",
       "      <th>tick_volume</th>\n",
       "      <td>0.145435</td>\n",
       "      <td>1.000000</td>\n",
       "      <td>0.285121</td>\n",
       "    </tr>\n",
       "    <tr>\n",
       "      <th>rolling_volatility_yang_zhang</th>\n",
       "      <td>-0.354947</td>\n",
       "      <td>0.285121</td>\n",
       "      <td>1.000000</td>\n",
       "    </tr>\n",
       "  </tbody>\n",
       "</table>\n",
       "</div>"
      ],
      "text/plain": [
       "                                  close  tick_volume  \\\n",
       "close                          1.000000     0.145435   \n",
       "tick_volume                    0.145435     1.000000   \n",
       "rolling_volatility_yang_zhang -0.354947     0.285121   \n",
       "\n",
       "                               rolling_volatility_yang_zhang  \n",
       "close                                              -0.354947  \n",
       "tick_volume                                         0.285121  \n",
       "rolling_volatility_yang_zhang                       1.000000  "
      ]
     },
     "execution_count": 6,
     "metadata": {},
     "output_type": "execute_result"
    }
   ],
   "source": [
    "df[[\"close\", \"tick_volume\", \"rolling_volatility_yang_zhang\"]].corr()"
   ]
  },
  {
   "cell_type": "code",
   "execution_count": null,
   "id": "14c2a872",
   "metadata": {},
   "outputs": [],
   "source": []
  }
 ],
 "metadata": {
  "kernelspec": {
   "display_name": "Python 3 (ipykernel)",
   "language": "python",
   "name": "python3"
  },
  "language_info": {
   "codemirror_mode": {
    "name": "ipython",
    "version": 3
   },
   "file_extension": ".py",
   "mimetype": "text/x-python",
   "name": "python",
   "nbconvert_exporter": "python",
   "pygments_lexer": "ipython3",
   "version": "3.9.12"
  }
 },
 "nbformat": 4,
 "nbformat_minor": 5
}
